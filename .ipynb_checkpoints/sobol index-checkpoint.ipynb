{
 "cells": [
  {
   "cell_type": "code",
   "execution_count": 1,
   "metadata": {},
   "outputs": [],
   "source": [
    "import pandas as pd\n",
    "import numpy as np\n",
    "from function import *\n",
    "import matplotlib.pyplot as plt"
   ]
  },
  {
   "cell_type": "code",
   "execution_count": 2,
   "metadata": {},
   "outputs": [],
   "source": [
    "n = 1000\n",
    "\n",
    "eps = 0 # np.random.normal(0, 0.1, n)\n",
    "\n",
    "a = 1\n",
    "b = 2\n",
    "\n",
    "b0 = -2\n",
    "b1 = -2\n",
    "\n",
    "sim = 1000\n",
    "\n",
    "p = 0.7"
   ]
  },
  {
   "cell_type": "code",
   "execution_count": 3,
   "metadata": {},
   "outputs": [],
   "source": [
    "df   = pd.DataFrame(np.random.uniform(0,1,size=(n, 3)),columns=['X1','X2','X3'])"
   ]
  },
  {
   "cell_type": "code",
   "execution_count": 4,
   "metadata": {},
   "outputs": [
    {
     "data": {
      "text/plain": [
       "[Text(1, 0, 'X1'), Text(2, 0, 'X2'), Text(3, 0, 'X3')]"
      ]
     },
     "execution_count": 4,
     "metadata": {},
     "output_type": "execute_result"
    },
    {
     "data": {
      "image/png": "[encoded data removed]",
      "text/plain": [
       "<Figure size 432x288 with 1 Axes>"
      ]
     },
     "metadata": {
      "needs_background": "light"
     },
     "output_type": "display_data"
    }
   ],
   "source": [
    "single_sobol = singletons(df,n,100,a,b,eps)\n",
    "\n",
    "fig, ax = plt.subplots()\n",
    "ax.boxplot(single_sobol.values())\n",
    "ax.set_xticklabels(single_sobol.keys())"
   ]
  },
  {
   "cell_type": "code",
   "execution_count": 5,
   "metadata": {},
   "outputs": [],
   "source": [
    "#Complete - Case analysis\n"
   ]
  },
  {
   "cell_type": "code",
   "execution_count": 6,
   "metadata": {},
   "outputs": [
    {
     "data": {
      "text/plain": [
       "[Text(1, 0, 'X1'), Text(2, 0, 'X2'), Text(3, 0, 'X3')]"
      ]
     },
     "execution_count": 6,
     "metadata": {},
     "output_type": "execute_result"
    },
    {
     "data": {
      "image/png": "[encoded data removed]",
      "text/plain": [
       "<Figure size 432x288 with 1 Axes>"
      ]
     },
     "metadata": {
      "needs_background": "light"
     },
     "output_type": "display_data"
    }
   ],
   "source": [
    "Xi ='X1'\n",
    "\n",
    "omega = pd.DataFrame(np.random.binomial(size=n, n=1, p= 0.7),columns=[Xi])\n",
    "omega[df.drop([Xi],axis=1).columns]=  np.ones((n,2),dtype=int)\n",
    "\n",
    "cc = df.where(omega==1,np.nan).dropna()\n",
    "\n",
    "single_sobol = singletons(cc,len(cc),100,a,b,eps)\n",
    "\n",
    "fig, ax = plt.subplots()\n",
    "ax.boxplot(single_sobol.values())\n",
    "ax.set_xticklabels(single_sobol.keys())"
   ]
  },
  {
   "cell_type": "code",
   "execution_count": 7,
   "metadata": {},
   "outputs": [
    {
     "data": {
      "text/plain": [
       "701"
      ]
     },
     "execution_count": 7,
     "metadata": {},
     "output_type": "execute_result"
    }
   ],
   "source": [
    "len(cc)"
   ]
  },
  {
   "cell_type": "code",
   "execution_count": 8,
   "metadata": {},
   "outputs": [],
   "source": [
    "#Simulate missing values in the predictor "
   ]
  },
  {
   "cell_type": "code",
   "execution_count": 10,
   "metadata": {},
   "outputs": [
    {
     "data": {
      "text/plain": [
       "701"
      ]
     },
     "execution_count": 10,
     "metadata": {},
     "output_type": "execute_result"
    }
   ],
   "source": [
    "len(cc)"
   ]
  },
  {
   "cell_type": "code",
   "execution_count": 11,
   "metadata": {},
   "outputs": [
    {
     "data": {
      "text/plain": [
       "[Text(1, 0, 'X1'), Text(2, 0, 'X2'), Text(3, 0, 'X3')]"
      ]
     },
     "execution_count": 11,
     "metadata": {},
     "output_type": "execute_result"
    },
    {
     "data": {
      "image/png": "[encoded data removed]",
      "text/plain": [
       "<Figure size 432x288 with 1 Axes>"
      ]
     },
     "metadata": {
      "needs_background": "light"
     },
     "output_type": "display_data"
    }
   ],
   "source": [
    "y = 0.5*df['X2'] + 0.5 *df['X3']\n",
    "\n",
    "omega = pd.DataFrame(np.random.binomial(size=n, n=1, p= pi(y,b0,b1)),columns=[Xi])\n",
    "omega[df.drop([Xi],axis=1).columns]=  np.ones((n,2),dtype=int)\n",
    "\n",
    "cc = df.where(omega==1,np.nan).dropna()\n",
    "\n",
    "single_sobol = singletons(cc,len(cc),sim,a,b,eps)\n",
    "\n",
    "fig, ax = plt.subplots()\n",
    "ax.boxplot(single_sobol.values())\n",
    "ax.set_xticklabels(single_sobol.keys())"
   ]
  },
  {
   "cell_type": "code",
   "execution_count": 13,
   "metadata": {},
   "outputs": [
    {
     "data": {
      "text/plain": [
       "[Text(1, 0, 'X1'), Text(2, 0, 'X2'), Text(3, 0, 'X3')]"
      ]
     },
     "execution_count": 13,
     "metadata": {},
     "output_type": "execute_result"
    },
    {
     "data": {
      "image/png": "[encoded data removed]",
      "text/plain": [
       "<Figure size 432x288 with 1 Axes>"
      ]
     },
     "metadata": {
      "needs_background": "light"
     },
     "output_type": "display_data"
    }
   ],
   "source": [
    "y = 0.5*df['X2'] \n",
    "\n",
    "omega = pd.DataFrame(np.random.binomial(size=n, n=1, p= pi(y,b0,b1)),columns=[Xi])\n",
    "omega[df.drop([Xi],axis=1).columns]=  np.ones((n,2),dtype=int)\n",
    "\n",
    "cc = df.where(omega==1,np.nan).dropna()\n",
    "\n",
    "single_sobol = singletons(cc,len(cc),sim,a,b,eps)\n",
    "\n",
    "fig, ax = plt.subplots()\n",
    "ax.boxplot(single_sobol.values())\n",
    "ax.set_xticklabels(single_sobol.keys())"
   ]
  },
  {
   "cell_type": "code",
   "execution_count": 18,
   "metadata": {},
   "outputs": [
    {
     "name": "stdout",
     "output_type": "stream",
     "text": [
      "22\n"
     ]
    },
    {
     "data": {
      "text/plain": [
       "[Text(1, 0, 'X1'), Text(2, 0, 'X2'), Text(3, 0, 'X3')]"
      ]
     },
     "execution_count": 18,
     "metadata": {},
     "output_type": "execute_result"
    },
    {
     "data": {
      "image/png": "[encoded data removed]",
      "text/plain": [
       "<Figure size 432x288 with 1 Axes>"
      ]
     },
     "metadata": {
      "needs_background": "light"
     },
     "output_type": "display_data"
    }
   ],
   "source": [
    "y = dataset(n,df.copy()).ishigami(eps)(a,b)\n",
    "\n",
    "omega = pd.DataFrame(np.random.binomial(size=n, n=1, p= pi(y,b0,b1)),columns=[Xi])\n",
    "omega[df.drop([Xi],axis=1).columns]=  np.ones((n,2),dtype=int)\n",
    "\n",
    "cc = df.where(omega==1,np.nan).dropna()\n",
    "print(len(cc))\n",
    "\n",
    "single_sobol = singletons(cc,len(cc),sim,a,b,eps)\n",
    "\n",
    "fig, ax = plt.subplots()\n",
    "ax.boxplot(single_sobol.values())\n",
    "ax.set_xticklabels(single_sobol.keys())"
   ]
  },
  {
   "cell_type": "code",
   "execution_count": null,
   "metadata": {},
   "outputs": [],
   "source": []
  }
 ],
 "metadata": {
  "kernelspec": {
   "display_name": "Python 3",
   "language": "python",
   "name": "python3"
  },
  "language_info": {
   "codemirror_mode": {
    "name": "ipython",
    "version": 3
   },
   "file_extension": ".py",
   "mimetype": "text/x-python",
   "name": "python",
   "nbconvert_exporter": "python",
   "pygments_lexer": "ipython3",
   "version": "3.8.5"
  }
 },
 "nbformat": 4,
 "nbformat_minor": 4
}
