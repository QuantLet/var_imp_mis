{
 "cells": [
  {
   "cell_type": "code",
   "execution_count": 6,
   "metadata": {},
   "outputs": [],
   "source": [
    "import pandas as pd\n",
    "import numpy as np\n",
    "from function import *\n",
    "import matplotlib.pyplot as plt\n",
    "import seaborn as sns\n",
    "from matplotlib.patches import PathPatch"
   ]
  },
  {
   "cell_type": "code",
   "execution_count": 7,
   "metadata": {},
   "outputs": [],
   "source": [
    "n = 100\n",
    "\n",
    "eps = 0 # np.random.normal(0, 0.1, n)\n",
    "\n",
    "a = 2\n",
    "b = 2\n",
    "\n",
    "b0=0.5\n",
    "b1 = 0.5\n",
    "\n",
    "sim = 100\n",
    "\n",
    "p = 0.7"
   ]
  },
  {
   "cell_type": "code",
   "execution_count": 8,
   "metadata": {},
   "outputs": [],
   "source": [
    "df   = pd.DataFrame(np.random.uniform(0,1,size=(n, 3)),columns=['X1','X2','X3'])\n",
    "df.to_csv('data_sim.csv')  \n",
    "df = pd.read_csv('data_sim.csv')\n",
    "df.drop(df.columns[0],axis=1,inplace=True)"
   ]
  },
  {
   "cell_type": "code",
   "execution_count": 9,
   "metadata": {},
   "outputs": [],
   "source": [
    "def singleton(df,Xi,n,p,sample):\n",
    "    omega = pd.DataFrame(np.random.binomial(size=n, n=1, p= p),columns=[Xi])\n",
    "    omega[df.drop([Xi],axis=1).columns]=  np.ones((n,2),dtype=int)\n",
    "    cc = df.where(omega==1,np.nan).dropna()\n",
    "    print(len(cc))\n",
    "    single_sobol_cc = singletons(cc,len(cc),sim,a,b,eps)\n",
    "    #fig, ax = plt.subplots()\n",
    "    #ax.boxplot(single_sobol_cc)\n",
    "    #ax.set_xticklabels(single_sobol_cc.columns)\n",
    "    single_sobol_cc['sample'] = sample\n",
    "    return single_sobol_cc"
   ]
  },
  {
   "cell_type": "code",
   "execution_count": 5,
   "metadata": {},
   "outputs": [
    {
     "name": "stdout",
     "output_type": "stream",
     "text": [
      "X1 is missing\n",
      "\n",
      "0.4\n",
      "10000\n",
      "4065\n"
     ]
    },
    {
     "name": "stderr",
     "output_type": "stream",
     "text": [
      "<ipython-input-5-8f204c0627de>:20: UserWarning: The palette list has more values (6) than needed (2), which may not be intended.\n",
      "  ax = sns.boxplot(x='Variable',y='First Order Effect',data=dd,hue='sample',palette=sns.color_palette('Blues'),showfliers = False) #\"Blues\" \"cubehelix\" flare_r'\n"
     ]
    },
    {
     "name": "stdout",
     "output_type": "stream",
     "text": [
      "X1 is missing\n",
      "\n",
      "0.7\n",
      "10000\n",
      "7083\n"
     ]
    },
    {
     "name": "stderr",
     "output_type": "stream",
     "text": [
      "<ipython-input-5-8f204c0627de>:20: UserWarning: The palette list has more values (6) than needed (2), which may not be intended.\n",
      "  ax = sns.boxplot(x='Variable',y='First Order Effect',data=dd,hue='sample',palette=sns.color_palette('Blues'),showfliers = False) #\"Blues\" \"cubehelix\" flare_r'\n"
     ]
    },
    {
     "name": "stdout",
     "output_type": "stream",
     "text": [
      "X1 is missing\n",
      "\n",
      "0.9\n",
      "10000\n",
      "8991\n"
     ]
    },
    {
     "name": "stderr",
     "output_type": "stream",
     "text": [
      "<ipython-input-5-8f204c0627de>:20: UserWarning: The palette list has more values (6) than needed (2), which may not be intended.\n",
      "  ax = sns.boxplot(x='Variable',y='First Order Effect',data=dd,hue='sample',palette=sns.color_palette('Blues'),showfliers = False) #\"Blues\" \"cubehelix\" flare_r'\n"
     ]
    },
    {
     "name": "stdout",
     "output_type": "stream",
     "text": [
      "X2 is missing\n",
      "\n",
      "0.4\n",
      "10000\n",
      "3968\n"
     ]
    },
    {
     "name": "stderr",
     "output_type": "stream",
     "text": [
      "<ipython-input-5-8f204c0627de>:20: UserWarning: The palette list has more values (6) than needed (2), which may not be intended.\n",
      "  ax = sns.boxplot(x='Variable',y='First Order Effect',data=dd,hue='sample',palette=sns.color_palette('Blues'),showfliers = False) #\"Blues\" \"cubehelix\" flare_r'\n"
     ]
    },
    {
     "name": "stdout",
     "output_type": "stream",
     "text": [
      "X2 is missing\n",
      "\n",
      "0.7\n",
      "10000\n",
      "6967\n"
     ]
    },
    {
     "name": "stderr",
     "output_type": "stream",
     "text": [
      "<ipython-input-5-8f204c0627de>:20: UserWarning: The palette list has more values (6) than needed (2), which may not be intended.\n",
      "  ax = sns.boxplot(x='Variable',y='First Order Effect',data=dd,hue='sample',palette=sns.color_palette('Blues'),showfliers = False) #\"Blues\" \"cubehelix\" flare_r'\n"
     ]
    },
    {
     "name": "stdout",
     "output_type": "stream",
     "text": [
      "X2 is missing\n",
      "\n",
      "0.9\n",
      "10000\n",
      "8988\n"
     ]
    },
    {
     "name": "stderr",
     "output_type": "stream",
     "text": [
      "<ipython-input-5-8f204c0627de>:20: UserWarning: The palette list has more values (6) than needed (2), which may not be intended.\n",
      "  ax = sns.boxplot(x='Variable',y='First Order Effect',data=dd,hue='sample',palette=sns.color_palette('Blues'),showfliers = False) #\"Blues\" \"cubehelix\" flare_r'\n"
     ]
    },
    {
     "name": "stdout",
     "output_type": "stream",
     "text": [
      "X3 is missing\n",
      "\n",
      "0.4\n",
      "10000\n",
      "4007\n"
     ]
    },
    {
     "name": "stderr",
     "output_type": "stream",
     "text": [
      "<ipython-input-5-8f204c0627de>:20: UserWarning: The palette list has more values (6) than needed (2), which may not be intended.\n",
      "  ax = sns.boxplot(x='Variable',y='First Order Effect',data=dd,hue='sample',palette=sns.color_palette('Blues'),showfliers = False) #\"Blues\" \"cubehelix\" flare_r'\n"
     ]
    },
    {
     "name": "stdout",
     "output_type": "stream",
     "text": [
      "X3 is missing\n",
      "\n",
      "0.7\n",
      "10000\n",
      "6943\n"
     ]
    },
    {
     "name": "stderr",
     "output_type": "stream",
     "text": [
      "<ipython-input-5-8f204c0627de>:20: UserWarning: The palette list has more values (6) than needed (2), which may not be intended.\n",
      "  ax = sns.boxplot(x='Variable',y='First Order Effect',data=dd,hue='sample',palette=sns.color_palette('Blues'),showfliers = False) #\"Blues\" \"cubehelix\" flare_r'\n"
     ]
    },
    {
     "name": "stdout",
     "output_type": "stream",
     "text": [
      "X3 is missing\n",
      "\n",
      "0.9\n",
      "10000\n",
      "9008\n"
     ]
    },
    {
     "name": "stderr",
     "output_type": "stream",
     "text": [
      "<ipython-input-5-8f204c0627de>:20: UserWarning: The palette list has more values (6) than needed (2), which may not be intended.\n",
      "  ax = sns.boxplot(x='Variable',y='First Order Effect',data=dd,hue='sample',palette=sns.color_palette('Blues'),showfliers = False) #\"Blues\" \"cubehelix\" flare_r'\n"
     ]
    },
    {
     "data": {
      "image/png": "[encoded data removed]",
      "text/plain": [
       "<Figure size 720x360 with 1 Axes>"
      ]
     },
     "metadata": {
      "needs_background": "light"
     },
     "output_type": "display_data"
    },
    {
     "data": {
      "image/png": "[encoded data removed]",
      "text/plain": [
       "<Figure size 720x360 with 1 Axes>"
      ]
     },
     "metadata": {
      "needs_background": "light"
     },
     "output_type": "display_data"
    },
    {
     "data": {
      "image/png": "[encoded data removed]",
      "text/plain": [
       "<Figure size 720x360 with 1 Axes>"
      ]
     },
     "metadata": {
      "needs_background": "light"
     },
     "output_type": "display_data"
    },
    {
     "data": {
      "image/png": "[encoded data removed]",
      "text/plain": [
       "<Figure size 720x360 with 1 Axes>"
      ]
     },
     "metadata": {
      "needs_background": "light"
     },
     "output_type": "display_data"
    },
    {
     "data": {
      "image/png": "[encoded data removed]",
      "text/plain": [
       "<Figure size 720x360 with 1 Axes>"
      ]
     },
     "metadata": {
      "needs_background": "light"
     },
     "output_type": "display_data"
    },
    {
     "data": {
      "image/png": "[encoded data removed]",
      "text/plain": [
       "<Figure size 720x360 with 1 Axes>"
      ]
     },
     "metadata": {
      "needs_background": "light"
     },
     "output_type": "display_data"
    },
    {
     "data": {
      "image/png": "[encoded data removed]",
      "text/plain": [
       "<Figure size 720x360 with 1 Axes>"
      ]
     },
     "metadata": {
      "needs_background": "light"
     },
     "output_type": "display_data"
    },
    {
     "data": {
      "image/png": "[encoded data removed]",
      "text/plain": [
       "<Figure size 720x360 with 1 Axes>"
      ]
     },
     "metadata": {
      "needs_background": "light"
     },
     "output_type": "display_data"
    },
    {
     "data": {
      "image/png": "[encoded data removed]",
      "text/plain": [
       "<Figure size 720x360 with 1 Axes>"
      ]
     },
     "metadata": {
      "needs_background": "light"
     },
     "output_type": "display_data"
    }
   ],
   "source": [
    "for x in ['X1','X2','X3']: #0.4,0.7,\n",
    "    for p in [0.4,0.7,0.9]:\n",
    "        print(x+ ' is missing')\n",
    "        print()\n",
    "        print(p)\n",
    "        single_sobol = singleton(df,x,n,1,'complete')\n",
    "        single_sobol_cc = singleton(df,x,n,p,'cc')\n",
    "\n",
    "    \n",
    "  \n",
    "        cdf = pd.concat([single_sobol, single_sobol_cc],axis=0)  \n",
    "    \n",
    "        dd = pd.melt(cdf, id_vars= ['sample'],value_vars=['X1','X2','X3'],var_name='Variable')\n",
    "        dd = dd.rename(columns={'value':'First Order Effect'})\n",
    "        \n",
    "        dd.to_csv(f'simulation/mcar_run/{x}_mcar_{p}.csv')\n",
    " \n",
    "        fig, ax = plt.subplots(1, 1,figsize=(10, 5))\n",
    "    \n",
    "        ax = sns.boxplot(x='Variable',y='First Order Effect',data=dd,hue='sample',palette=sns.color_palette('Blues'),showfliers = False) #\"Blues\" \"cubehelix\" flare_r'\n",
    "        ax.legend_.remove()\n",
    "        ax.set(ylim=(0, 0.6))\n",
    "        fig = ax.get_figure()\n",
    "        adjust_box_widths(fig, 0.9)\n",
    "        fig.savefig('simulation/mcar/MCAR_'+str(x)+'_'+str(p)+'.pdf',transparent=True,bbox_inches='tight')\n"
   ]
  },
  {
   "cell_type": "code",
   "execution_count": 6,
   "metadata": {},
   "outputs": [],
   "source": [
    "dX14 = pd.read_csv(f'simulation/mcar_run/{x}_mcar_0.4.csv')"
   ]
  },
  {
   "cell_type": "code",
   "execution_count": 8,
   "metadata": {},
   "outputs": [
    {
     "name": "stdout",
     "output_type": "stream",
     "text": [
      "30000\n",
      "30000\n"
     ]
    },
    {
     "name": "stderr",
     "output_type": "stream",
     "text": [
      "<ipython-input-8-7f767e24e786>:19: UserWarning: The palette list has more values (6) than needed (4), which may not be intended.\n",
      "  ax = sns.boxplot(x='Variable',y='First Order Effect',data=dp,hue='prob',palette=sns.color_palette('Blues'),showfliers = False,hue_order=[1,0.9,0.7,0.4]) #\"Blues\" \"cubehelix\" flare_r'\n"
     ]
    },
    {
     "name": "stdout",
     "output_type": "stream",
     "text": [
      "30000\n",
      "30000\n"
     ]
    },
    {
     "name": "stderr",
     "output_type": "stream",
     "text": [
      "<ipython-input-8-7f767e24e786>:19: UserWarning: The palette list has more values (6) than needed (4), which may not be intended.\n",
      "  ax = sns.boxplot(x='Variable',y='First Order Effect',data=dp,hue='prob',palette=sns.color_palette('Blues'),showfliers = False,hue_order=[1,0.9,0.7,0.4]) #\"Blues\" \"cubehelix\" flare_r'\n"
     ]
    },
    {
     "name": "stdout",
     "output_type": "stream",
     "text": [
      "30000\n",
      "30000\n"
     ]
    },
    {
     "name": "stderr",
     "output_type": "stream",
     "text": [
      "<ipython-input-8-7f767e24e786>:19: UserWarning: The palette list has more values (6) than needed (4), which may not be intended.\n",
      "  ax = sns.boxplot(x='Variable',y='First Order Effect',data=dp,hue='prob',palette=sns.color_palette('Blues'),showfliers = False,hue_order=[1,0.9,0.7,0.4]) #\"Blues\" \"cubehelix\" flare_r'\n"
     ]
    },
    {
     "data": {
      "image/png": "[encoded data removed]",
      "text/plain": [
       "<Figure size 864x576 with 1 Axes>"
      ]
     },
     "metadata": {
      "needs_background": "light"
     },
     "output_type": "display_data"
    },
    {
     "data": {
      "image/png": "[encoded data removed]",
      "text/plain": [
       "<Figure size 864x576 with 1 Axes>"
      ]
     },
     "metadata": {
      "needs_background": "light"
     },
     "output_type": "display_data"
    },
    {
     "data": {
      "image/png": "[encoded data removed]",
      "text/plain": [
       "<Figure size 864x576 with 1 Axes>"
      ]
     },
     "metadata": {
      "needs_background": "light"
     },
     "output_type": "display_data"
    }
   ],
   "source": [
    "for x in ['X1','X2','X3']:\n",
    "    dX14 = pd.read_csv(f'simulation/mcar_run/{x}_mcar_0.4.csv')\n",
    "    dX14['prob'] =  dX14['sample'].apply(lambda x: 1 if x =='complete' else 0.4)\n",
    "\n",
    "    dX16 = pd.read_csv(f'simulation/mcar_run/{x}_mcar_0.7.csv')\n",
    "    dX16 = dX16.loc[(dX16['sample']=='cc')]\n",
    "    dX16['prob'] = 0.7\n",
    "    print(len(dX16))\n",
    "\n",
    "    dX19 = pd.read_csv(f'simulation/mcar_run/{x}_mcar_0.9.csv')\n",
    "    dX19 = dX19.loc[(dX19['sample']=='cc')]\n",
    "    dX19['prob'] = 0.9\n",
    "    print(len(dX19))\n",
    "\n",
    "    dp = pd.concat([dX14,dX16,dX19],axis=0,ignore_index=False)\n",
    "    \n",
    "    fig, ax = plt.subplots(1, 1,figsize=(12, 8))\n",
    "    \n",
    "    ax = sns.boxplot(x='Variable',y='First Order Effect',data=dp,hue='prob',palette=sns.color_palette('Blues'),showfliers = False,hue_order=[1,0.9,0.7,0.4]) #\"Blues\" \"cubehelix\" flare_r'\n",
    "    ax.legend_.remove()\n",
    "    ax.set(ylim=(0.05, 0.58))\n",
    "    fig = ax.get_figure()\n",
    "    adjust_box_widths(fig, 0.9)\n",
    "    plt.xticks(fontsize = 15) \n",
    "    plt.yticks(fontsize = 15) \n",
    "    ax.set_xlabel('Variable', fontsize = 20) \n",
    "    ax.set_ylabel('First Order Effect', fontsize = 20) \n",
    "    fig.savefig(f'simulation/mcar/{x}_MCAR_p.pdf',transparent=True,bbox_inches='tight')"
   ]
  },
  {
   "cell_type": "code",
   "execution_count": 40,
   "metadata": {},
   "outputs": [],
   "source": [
    "### Higher order Sobols\n",
    "big_list = []\n",
    "request = [['X3'],['X1'],['X2']] # ,\n",
    "\n",
    "for r in request:\n",
    "    sobol_list = []\n",
    "    for x in range(sim):\n",
    "        df1 = df.copy()\n",
    "        df_pf       = dataset(n,df).picked(r,a,b)\n",
    "        df1['Y']    =dataset(n,df1).ishigami(eps)(a,b)\n",
    "        df_pf['Y'] = dataset(n,df_pf).ishigami(eps)(a,b)\n",
    "        sobol_list.append((np.cov(df1.Y,df_pf.Y,bias=True)/np.var(df1.Y))[0][1])\n",
    "    big_list.append(sobol_list)"
   ]
  },
  {
   "cell_type": "code",
   "execution_count": 41,
   "metadata": {},
   "outputs": [
    {
     "data": {
      "text/plain": [
       "[[0.9574821595689051,\n",
       "  0.9012609027353217,\n",
       "  1.069244924381335,\n",
       "  0.9943724254366298,\n",
       "  0.9628568639472069,\n",
       "  0.8874546139058751,\n",
       "  0.9305875979485041,\n",
       "  0.9003286992077565,\n",
       "  0.8833701642027247,\n",
       "  0.8570789789643547,\n",
       "  0.9700032307360591,\n",
       "  0.9570737669896031,\n",
       "  0.9016549694100813,\n",
       "  0.8600967544055834,\n",
       "  0.8465377286068847,\n",
       "  0.7975245707566938,\n",
       "  0.9855236249500303,\n",
       "  0.9576591236033754,\n",
       "  0.9494744617229627,\n",
       "  0.9317104437010877,\n",
       "  0.9265559351969453,\n",
       "  0.9342385792040955,\n",
       "  0.9529416290961883,\n",
       "  0.9479918099922698,\n",
       "  0.9748059643957447,\n",
       "  1.0131384496140794,\n",
       "  0.8405501837227928,\n",
       "  0.9781629226605858,\n",
       "  0.8726838075013409,\n",
       "  0.9790380579661436,\n",
       "  0.9782612832286801,\n",
       "  0.9059180787074179,\n",
       "  0.9766823736637359,\n",
       "  0.8709802740927135,\n",
       "  0.9355862834830865,\n",
       "  0.9877305001837543,\n",
       "  0.9405811416605755,\n",
       "  0.866739285491138,\n",
       "  0.9384653851169098,\n",
       "  0.9311467530146269,\n",
       "  0.903896544718439,\n",
       "  0.8628521585401432,\n",
       "  0.9411121759432075,\n",
       "  0.929379312664855,\n",
       "  0.9325605178548161,\n",
       "  0.8986380042202724,\n",
       "  0.9817224936616752,\n",
       "  0.8987263767450641,\n",
       "  0.8997265945689209,\n",
       "  0.8728680716869717,\n",
       "  0.9622637984461404,\n",
       "  0.8686955017814625,\n",
       "  0.8783384021104228,\n",
       "  0.8596034716569331,\n",
       "  0.9759004746890753,\n",
       "  0.8892737168471154,\n",
       "  0.9093734611288049,\n",
       "  0.8417313452358764,\n",
       "  0.961417448820592,\n",
       "  0.8693958886544714,\n",
       "  0.8520814215653357,\n",
       "  0.9009893096446758,\n",
       "  0.9911963486214053,\n",
       "  0.8709155302785604,\n",
       "  0.968561948294505,\n",
       "  0.8981676087008442,\n",
       "  0.8786838763900663,\n",
       "  0.9456877772390555,\n",
       "  0.9639937754348029,\n",
       "  0.9144959188528067,\n",
       "  0.8355598820139882,\n",
       "  0.8496249747659822,\n",
       "  0.9268283439255743,\n",
       "  0.8934980707274999,\n",
       "  0.8950504819991076,\n",
       "  0.930878601127183,\n",
       "  0.9243059915772557,\n",
       "  0.8887848186472478,\n",
       "  0.8815274198953121,\n",
       "  0.9276295591289296,\n",
       "  0.9402185053948383,\n",
       "  0.9757584839988868,\n",
       "  0.9679511480433798,\n",
       "  0.9334749616748853,\n",
       "  0.9620973830052856,\n",
       "  0.8754533147426434,\n",
       "  0.9403644771983901,\n",
       "  0.8687121688460882,\n",
       "  0.9166278546555029,\n",
       "  0.9342659061810404,\n",
       "  0.9037549881237301,\n",
       "  0.9839067487391024,\n",
       "  0.9342390324415707,\n",
       "  0.9273130806923008,\n",
       "  0.8974041905351714,\n",
       "  0.9296960648799281,\n",
       "  0.9061151131636269,\n",
       "  0.8886212006922828,\n",
       "  0.9821102771235789,\n",
       "  0.8766160624107997],\n",
       " [0.605279418946368,\n",
       "  0.5331506054619373,\n",
       "  0.7050925648427748,\n",
       "  0.646363107229503,\n",
       "  0.7174741787841262,\n",
       "  0.5365209340208997,\n",
       "  0.6323379215802077,\n",
       "  0.7537022637270675,\n",
       "  0.6300901633042526,\n",
       "  0.5801713737599663,\n",
       "  0.5794102297445899,\n",
       "  0.5767510081663855,\n",
       "  0.5648745892502377,\n",
       "  0.6349472954729626,\n",
       "  0.7128516160879174,\n",
       "  0.5998964593801862,\n",
       "  0.5663412458588393,\n",
       "  0.5783314675693357,\n",
       "  0.6200569277138104,\n",
       "  0.7417816240746883,\n",
       "  0.6073796566968274,\n",
       "  0.5672957146104417,\n",
       "  0.637604160096778,\n",
       "  0.7345892572154855,\n",
       "  0.7226400314001652,\n",
       "  0.5805316939582646,\n",
       "  0.6772649591463754,\n",
       "  0.6507825774725833,\n",
       "  0.5863944676931737,\n",
       "  0.6943672209958309,\n",
       "  0.6880634348966566,\n",
       "  0.7167265923760778,\n",
       "  0.6831671515816609,\n",
       "  0.5760084323990889,\n",
       "  0.705911311192503,\n",
       "  0.6180406272342568,\n",
       "  0.589152159232988,\n",
       "  0.700360970204631,\n",
       "  0.5837858909547282,\n",
       "  0.7546655471618311,\n",
       "  0.5207631301014249,\n",
       "  0.6326746799476434,\n",
       "  0.6766606376773364,\n",
       "  0.6123185747429528,\n",
       "  0.6835628416124439,\n",
       "  0.6013412977245661,\n",
       "  0.6282047180510754,\n",
       "  0.5912508796934576,\n",
       "  0.7092789381675326,\n",
       "  0.4764990263905969,\n",
       "  0.5886093971426689,\n",
       "  0.653750375496222,\n",
       "  0.6766410292730363,\n",
       "  0.6130735642949888,\n",
       "  0.6226053446356871,\n",
       "  0.6071657718770113,\n",
       "  0.6411094023165179,\n",
       "  0.6915236045972039,\n",
       "  0.6446925092375386,\n",
       "  0.7812878292963696,\n",
       "  0.6723027617819974,\n",
       "  0.7353945097844243,\n",
       "  0.6836890793687666,\n",
       "  0.5611311637584281,\n",
       "  0.6398446287569826,\n",
       "  0.6701290089554087,\n",
       "  0.6166013203538085,\n",
       "  0.7752825399315619,\n",
       "  0.6788614705889885,\n",
       "  0.580147356492249,\n",
       "  0.6840868097617393,\n",
       "  0.7288519303728447,\n",
       "  0.6849074675045118,\n",
       "  0.605652283059954,\n",
       "  0.735602811952768,\n",
       "  0.6212678776969938,\n",
       "  0.6538729501386762,\n",
       "  0.6853957375363006,\n",
       "  0.5803358564271224,\n",
       "  0.6354389233569685,\n",
       "  0.5408287019737811,\n",
       "  0.7129098040773179,\n",
       "  0.5813982534658304,\n",
       "  0.7155236858886884,\n",
       "  0.5792959744559858,\n",
       "  0.6389574085986439,\n",
       "  0.5916061850574318,\n",
       "  0.6635735310530798,\n",
       "  0.5621452379351076,\n",
       "  0.5681987591314548,\n",
       "  0.6119141765281569,\n",
       "  0.5353403959895754,\n",
       "  0.6006480352676848,\n",
       "  0.6526301434899479,\n",
       "  0.4648184426433547,\n",
       "  0.5403897592033989,\n",
       "  0.7145424670544366,\n",
       "  0.6560472397079563,\n",
       "  0.4965602378611721,\n",
       "  0.6875136355449095],\n",
       " [0.3640838815427646,\n",
       "  0.41097067786841307,\n",
       "  0.3313123838039049,\n",
       "  0.3695029565383953,\n",
       "  0.3337516803661965,\n",
       "  0.3369806283757858,\n",
       "  0.3042206248439524,\n",
       "  0.3591198633919752,\n",
       "  0.4997185135461295,\n",
       "  0.22701560601317136,\n",
       "  0.41257270145593056,\n",
       "  0.3698173390996834,\n",
       "  0.5232412506507074,\n",
       "  0.5503389497989152,\n",
       "  0.40740843518910685,\n",
       "  0.45720241745105344,\n",
       "  0.5243397357739356,\n",
       "  0.27857094099416113,\n",
       "  0.36131749653717576,\n",
       "  0.4450174848953115,\n",
       "  0.2783368684989803,\n",
       "  0.4539668476733354,\n",
       "  0.32277154560489835,\n",
       "  0.307794106644277,\n",
       "  0.5265015361382507,\n",
       "  0.3688260890255839,\n",
       "  0.3825468228347533,\n",
       "  0.4542142693030039,\n",
       "  0.5427318307286256,\n",
       "  0.44267396361037586,\n",
       "  0.3987509336004271,\n",
       "  0.38879348812900916,\n",
       "  0.41471603183146244,\n",
       "  0.40958633410737977,\n",
       "  0.31819171145759334,\n",
       "  0.3536516602910355,\n",
       "  0.4258965963735108,\n",
       "  0.44564771695100464,\n",
       "  0.41761119237863925,\n",
       "  0.36939023628493417,\n",
       "  0.47091893040597155,\n",
       "  0.43841179375508255,\n",
       "  0.3406778431721165,\n",
       "  0.41215049419906075,\n",
       "  0.49845830079020137,\n",
       "  0.30309122280231904,\n",
       "  0.3908278403901656,\n",
       "  0.4549187838264025,\n",
       "  0.43137371905952976,\n",
       "  0.4510466769184117,\n",
       "  0.3733609330263357,\n",
       "  0.46239040920710306,\n",
       "  0.5039861712539881,\n",
       "  0.37568393809810446,\n",
       "  0.28914410760405473,\n",
       "  0.23234685428755608,\n",
       "  0.4265781736050946,\n",
       "  0.3353767483786374,\n",
       "  0.5612776206237297,\n",
       "  0.49945068050086655,\n",
       "  0.3946499638060865,\n",
       "  0.4668541421005592,\n",
       "  0.373609497490276,\n",
       "  0.38942558011371625,\n",
       "  0.30560855707038337,\n",
       "  0.4751713770037109,\n",
       "  0.37754940152385685,\n",
       "  0.42302219831090476,\n",
       "  0.4627307928483971,\n",
       "  0.46340274052599284,\n",
       "  0.46583021896877075,\n",
       "  0.5459531865858616,\n",
       "  0.3281672090239156,\n",
       "  0.4082597245492671,\n",
       "  0.33327755419181837,\n",
       "  0.40217336721743996,\n",
       "  0.319445429616154,\n",
       "  0.46927020817642656,\n",
       "  0.43438346065382133,\n",
       "  0.5424653623335106,\n",
       "  0.4272035755322086,\n",
       "  0.4631677174105515,\n",
       "  0.33060311033202194,\n",
       "  0.3871669959314629,\n",
       "  0.29460647610992824,\n",
       "  0.5182135310409046,\n",
       "  0.3525064524045509,\n",
       "  0.2657736567104116,\n",
       "  0.4506204922684695,\n",
       "  0.5222464707714733,\n",
       "  0.45447361543037035,\n",
       "  0.3534660510354439,\n",
       "  0.3487969421034022,\n",
       "  0.36693889218242026,\n",
       "  0.4654799638768798,\n",
       "  0.35021632836919514,\n",
       "  0.45255997973769735,\n",
       "  0.5941365789587426,\n",
       "  0.3547922525679702,\n",
       "  0.4115317114668764]]"
      ]
     },
     "execution_count": 41,
     "metadata": {},
     "output_type": "execute_result"
    }
   ],
   "source": []
  },
  {
   "cell_type": "code",
   "execution_count": null,
   "metadata": {},
   "outputs": [],
   "source": [
    "\n",
    "\n",
    "    \n",
    "    \n",
    "        \n",
    "        \n",
    "        \n",
    "        \n",
    "    return sobol_list\n",
    "\n",
    "def singletons(df,n1,sim,a,b,eps):\n",
    "    singleton = []\n",
    "    for x in [['X2','X3'],['X1','X3'],['X1','X2']]:\n",
    "        singleton.append(sobol(df,n1,x,sim,a,b,eps))\n",
    "    return pd.DataFrame(dict(zip(['X1','X2','X3'],singleton)))\n",
    "\n",
    "def higher_sobol(df,n1,sim,a,b,eps):\n",
    "    singleton = []\n",
    "    for x in [['X3'],['X1'],['X2'],[]]:\n",
    "        singleton.append(sobol(df,n1,x,sim,a,b,eps))\n",
    "    return pd.DataFrame(dict(zip(['X1_X2','X2_X3','X1_X3','X1_X2_X3'],singleton)))"
   ]
  },
  {
   "cell_type": "code",
   "execution_count": null,
   "metadata": {},
   "outputs": [],
   "source": []
  },
  {
   "cell_type": "code",
   "execution_count": null,
   "metadata": {},
   "outputs": [],
   "source": []
  },
  {
   "cell_type": "code",
   "execution_count": null,
   "metadata": {},
   "outputs": [],
   "source": [
    "\n"
   ]
  },
  {
   "cell_type": "code",
   "execution_count": null,
   "metadata": {},
   "outputs": [],
   "source": []
  }
 ],
 "metadata": {
  "kernelspec": {
   "display_name": "Python 3",
   "language": "python",
   "name": "python3"
  },
  "language_info": {
   "codemirror_mode": {
    "name": "ipython",
    "version": 3
   },
   "file_extension": ".py",
   "mimetype": "text/x-python",
   "name": "python",
   "nbconvert_exporter": "python",
   "pygments_lexer": "ipython3",
   "version": "3.8.5"
  }
 },
 "nbformat": 4,
 "nbformat_minor": 4
}
