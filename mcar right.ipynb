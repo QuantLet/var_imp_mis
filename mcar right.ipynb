{
 "cells": [
  {
   "cell_type": "code",
   "execution_count": null,
   "metadata": {},
   "outputs": [],
   "source": [
    "import pandas as pd\n",
    "import numpy as np\n",
    "from function import *\n",
    "import matplotlib.pyplot as plt\n",
    "import seaborn as sns\n",
    "from matplotlib.patches import PathPatch"
   ]
  },
  {
   "cell_type": "code",
   "execution_count": null,
   "metadata": {},
   "outputs": [],
   "source": [
    "n = 10000\n",
    "\n",
    "eps = 0 # np.random.normal(0, 0.1, n)\n",
    "\n",
    "a = 2\n",
    "b = 2\n",
    "\n",
    "b0=0.5\n",
    "b1 = 0.5\n",
    "\n",
    "sim = 10000\n",
    "\n",
    "#p = 0.7"
   ]
  },
  {
   "cell_type": "code",
   "execution_count": null,
   "metadata": {},
   "outputs": [],
   "source": [
    "#df   = pd.DataFrame(np.random.uniform(0,1,size=(n, 3)),columns=['X1','X2','X3'])\n",
    "#df.to_csv('data_sim.csv')  \n",
    "df = pd.read_csv('data_sim.csv')\n",
    "df.drop(df.columns[0],axis=1,inplace=True)"
   ]
  },
  {
   "cell_type": "code",
   "execution_count": null,
   "metadata": {},
   "outputs": [],
   "source": [
    "def singleton(df,Xi,n,p,sample):\n",
    "    omega = pd.DataFrame(np.random.binomial(size=n, n=1, p= p),columns=[Xi])\n",
    "    omega[df.drop([Xi],axis=1).columns]=  np.ones((n,2),dtype=int)\n",
    "    cc = df.where(omega==1,np.nan).dropna()\n",
    "    print(len(cc))\n",
    "    single_sobol_cc = singletons(cc,len(cc),sim,a,b,eps)\n",
    "    #fig, ax = plt.subplots()\n",
    "    #ax.boxplot(single_sobol_cc)\n",
    "    #ax.set_xticklabels(single_sobol_cc.columns)\n",
    "    single_sobol_cc['sample'] = sample\n",
    "    return single_sobol_cc"
   ]
  },
  {
   "cell_type": "code",
   "execution_count": null,
   "metadata": {},
   "outputs": [],
   "source": [
    "for x in ['X1','X2','X3']: #0.4,0.7,\n",
    "    for p in [0.4,0.7,0.9]:\n",
    "        print(x+ ' is missing')\n",
    "        print()\n",
    "        print(p)\n",
    "        single_sobol = singleton(df,x,n,1,'complete')\n",
    "        single_sobol_cc = singleton(df,x,n,p,'cc')\n",
    "\n",
    "    \n",
    "  \n",
    "        cdf = pd.concat([single_sobol, single_sobol_cc],axis=0)  \n",
    "    \n",
    "        dd = pd.melt(cdf, id_vars= ['sample'],value_vars=['X1','X2','X3'],var_name='Variable')\n",
    "        dd = dd.rename(columns={'value':'First Order Effect'})\n",
    "        \n",
    "        dd.to_csv(f'simulation/mcar_run/{p}_mcar_{x}.csv')\n",
    " \n",
    "        fig, ax = plt.subplots(1, 1,figsize=(10, 5))\n",
    "    \n",
    "        ax = sns.boxplot(x='Variable',y='First Order Effect',data=dd,hue='sample',palette=sns.color_palette('Blues'),showfliers = False) #\"Blues\" \"cubehelix\" flare_r'\n",
    "        ax.legend_.remove()\n",
    "        ax.set(ylim=(0, 0.6))\n",
    "        fig = ax.get_figure()\n",
    "        adjust_box_widths(fig, 0.9)\n",
    "        fig.savefig('simulation/mcar_run/MCAR_'+str(x)+'_'+str(p)+'.pdf',transparent=True,bbox_inches='tight')\n"
   ]
  }
 ],
 "metadata": {
  "kernelspec": {
   "display_name": "Python 3",
   "language": "python",
   "name": "python3"
  },
  "language_info": {
   "codemirror_mode": {
    "name": "ipython",
    "version": 3
   },
   "file_extension": ".py",
   "mimetype": "text/x-python",
   "name": "python",
   "nbconvert_exporter": "python",
   "pygments_lexer": "ipython3",
   "version": "3.8.5"
  }
 },
 "nbformat": 4,
 "nbformat_minor": 4
}
