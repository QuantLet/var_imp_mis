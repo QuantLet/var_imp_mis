{
 "cells": [
  {
   "cell_type": "code",
   "execution_count": 1,
   "metadata": {},
   "outputs": [
    {
     "name": "stderr",
     "output_type": "stream",
     "text": [
      "/Users/lilimatic/opt/anaconda3/lib/python3.8/site-packages/pandas/core/computation/expressions.py:20: UserWarning: Pandas requires version '2.7.3' or newer of 'numexpr' (version '2.7.1' currently installed).\n",
      "  from pandas.core.computation.check import NUMEXPR_INSTALLED\n"
     ]
    }
   ],
   "source": [
    "import pandas as pd\n",
    "import numpy as np\n",
    "from function import *\n",
    "import matplotlib.pyplot as plt\n",
    "import seaborn as sns\n",
    "from matplotlib.patches import PathPatch"
   ]
  },
  {
   "cell_type": "code",
   "execution_count": 2,
   "metadata": {},
   "outputs": [],
   "source": [
    "n = 100\n",
    "\n",
    "eps = 0 # np.random.normal(0, 0.1, n)\n",
    "\n",
    "a = 3\n",
    "b = 4\n",
    "\n",
    "b0 = 0.5\n",
    "b1 = 0.5\n",
    "\n",
    "sim = 100\n",
    "\n",
    "p = 0.7"
   ]
  },
  {
   "cell_type": "code",
   "execution_count": 3,
   "metadata": {},
   "outputs": [],
   "source": [
    "df   = pd.DataFrame(np.random.uniform(0,1,size=(n, 3)),columns=['X1','X2','X3'])"
   ]
  },
  {
   "cell_type": "code",
   "execution_count": 6,
   "metadata": {},
   "outputs": [],
   "source": [
    "omega = pd.DataFrame(np.random.binomial(size=n, n=1, p= p),columns=['X1'])\n",
    "\n",
    "omega[df.drop(['X1'],axis=1).columns]=  np.ones((n,2),dtype=int)\n",
    "cc = df.where(omega==1,np.nan).dropna()\n",
    "    "
   ]
  },
  {
   "cell_type": "code",
   "execution_count": 9,
   "metadata": {},
   "outputs": [],
   "source": [
    "df_pf   = dataset(len(cc),cc).picked(['X2','X3'],a,b)"
   ]
  },
  {
   "cell_type": "code",
   "execution_count": 14,
   "metadata": {},
   "outputs": [],
   "source": [
    "df1 = cc.copy()\n",
    "df1['Y']   = dataset(len(cc),cc).ishigami(eps)(a,b)/ pi(dataset(len(cc),cc).ishigami(eps)(a,b),0.5,0.5)"
   ]
  },
  {
   "cell_type": "code",
   "execution_count": 19,
   "metadata": {},
   "outputs": [],
   "source": [
    "df_pf['Y'] = dataset(len(df_pf),df_pf).ishigami(eps)(a,b) / pi( dataset(len(df_pf),df_pf).ishigami(eps)(a,b),0.5,0.5)"
   ]
  },
  {
   "cell_type": "code",
   "execution_count": 20,
   "metadata": {},
   "outputs": [
    {
     "data": {
      "text/plain": [
       "array([[0.76161502, 0.10251904],\n",
       "       [0.10251904, 1.69312039]])"
      ]
     },
     "execution_count": 20,
     "metadata": {},
     "output_type": "execute_result"
    }
   ],
   "source": [
    "np.cov(df1.Y,df_pf.Y)"
   ]
  },
  {
   "cell_type": "code",
   "execution_count": null,
   "metadata": {},
   "outputs": [],
   "source": [
    "def sobol_ipw(df,n1,request,sim,a,b,eps,p):\n",
    "    sobol_list = []\n",
    "    df1 = df.copy()\n",
    "    for x in range(sim):\n",
    "        df_pf   = dataset(n1,df1).picked(request,a,b)\n",
    "        df1['Y']    =dataset(n1,df1).ishigami(eps)(a,b)\n",
    "        df_pf['Y'] = dataset(n1,df_pf).ishigami(eps)(a,b)\n",
    "        sobol_list.append((np.cov(((df1.Y)/p),((df_pf.Y)/p))/np.var(df1.Y))[0][1])\n",
    "    return sobol_list\n",
    "\n",
    "def singletons_ipw(df,n1,sim,a,b,eps,p):\n",
    "    singleton = []\n",
    "    for x in [['X2','X3'],['X1','X3'],['X1','X2']]:\n",
    "        singleton.append(sobol_ipw(df,n1,x,sim,a,b,eps,p))\n",
    "    return pd.DataFrame(dict(zip(['X1','X2','X3'],singleton)))"
   ]
  },
  {
   "cell_type": "code",
   "execution_count": null,
   "metadata": {},
   "outputs": [],
   "source": []
  },
  {
   "cell_type": "code",
   "execution_count": 7,
   "metadata": {},
   "outputs": [],
   "source": [
    "def singleton_ipw(df,Xi,n,p,sample):\n",
    "    omega = pd.DataFrame(np.random.binomial(size=n, n=1, p= p),columns=[Xi])\n",
    "    omega[df.drop([Xi],axis=1).columns]=  np.ones((n,2),dtype=int)\n",
    "    cc = df.where(omega==1,np.nan).dropna()\n",
    "    print(len(cc))\n",
    "    single_sobol_cc = singletons_ipw(cc,len(cc),sim,a,b,eps,p)\n",
    "    #fig, ax = plt.subplots()\n",
    "    #ax.boxplot(single_sobol_cc)\n",
    "    #ax.set_xticklabels(single_sobol_cc.columns)\n",
    "    single_sobol_cc['sample'] = sample\n",
    "    return single_sobol_cc"
   ]
  },
  {
   "cell_type": "code",
   "execution_count": 27,
   "metadata": {},
   "outputs": [
    {
     "data": {
      "text/html": [
       "<div>\n",
       "<style scoped>\n",
       "    .dataframe tbody tr th:only-of-type {\n",
       "        vertical-align: middle;\n",
       "    }\n",
       "\n",
       "    .dataframe tbody tr th {\n",
       "        vertical-align: top;\n",
       "    }\n",
       "\n",
       "    .dataframe thead th {\n",
       "        text-align: right;\n",
       "    }\n",
       "</style>\n",
       "<table border=\"1\" class=\"dataframe\">\n",
       "  <thead>\n",
       "    <tr style=\"text-align: right;\">\n",
       "      <th></th>\n",
       "      <th>X1</th>\n",
       "      <th>X2</th>\n",
       "      <th>X3</th>\n",
       "    </tr>\n",
       "  </thead>\n",
       "  <tbody>\n",
       "    <tr>\n",
       "      <th>0</th>\n",
       "      <td>-0.250229</td>\n",
       "      <td>0.088045</td>\n",
       "      <td>0.002490</td>\n",
       "    </tr>\n",
       "    <tr>\n",
       "      <th>1</th>\n",
       "      <td>0.027555</td>\n",
       "      <td>0.488360</td>\n",
       "      <td>-0.091203</td>\n",
       "    </tr>\n",
       "    <tr>\n",
       "      <th>2</th>\n",
       "      <td>0.266951</td>\n",
       "      <td>0.435950</td>\n",
       "      <td>0.316745</td>\n",
       "    </tr>\n",
       "    <tr>\n",
       "      <th>3</th>\n",
       "      <td>0.242057</td>\n",
       "      <td>0.349360</td>\n",
       "      <td>0.320743</td>\n",
       "    </tr>\n",
       "    <tr>\n",
       "      <th>4</th>\n",
       "      <td>0.104242</td>\n",
       "      <td>0.620581</td>\n",
       "      <td>-0.112993</td>\n",
       "    </tr>\n",
       "    <tr>\n",
       "      <th>...</th>\n",
       "      <td>...</td>\n",
       "      <td>...</td>\n",
       "      <td>...</td>\n",
       "    </tr>\n",
       "    <tr>\n",
       "      <th>95</th>\n",
       "      <td>0.220793</td>\n",
       "      <td>0.209154</td>\n",
       "      <td>0.317481</td>\n",
       "    </tr>\n",
       "    <tr>\n",
       "      <th>96</th>\n",
       "      <td>0.378289</td>\n",
       "      <td>0.211592</td>\n",
       "      <td>-0.040132</td>\n",
       "    </tr>\n",
       "    <tr>\n",
       "      <th>97</th>\n",
       "      <td>0.024245</td>\n",
       "      <td>0.296349</td>\n",
       "      <td>0.458968</td>\n",
       "    </tr>\n",
       "    <tr>\n",
       "      <th>98</th>\n",
       "      <td>-0.162501</td>\n",
       "      <td>0.139314</td>\n",
       "      <td>0.250851</td>\n",
       "    </tr>\n",
       "    <tr>\n",
       "      <th>99</th>\n",
       "      <td>-0.284664</td>\n",
       "      <td>0.189536</td>\n",
       "      <td>0.130668</td>\n",
       "    </tr>\n",
       "  </tbody>\n",
       "</table>\n",
       "<p>100 rows × 3 columns</p>\n",
       "</div>"
      ],
      "text/plain": [
       "          X1        X2        X3\n",
       "0  -0.250229  0.088045  0.002490\n",
       "1   0.027555  0.488360 -0.091203\n",
       "2   0.266951  0.435950  0.316745\n",
       "3   0.242057  0.349360  0.320743\n",
       "4   0.104242  0.620581 -0.112993\n",
       "..       ...       ...       ...\n",
       "95  0.220793  0.209154  0.317481\n",
       "96  0.378289  0.211592 -0.040132\n",
       "97  0.024245  0.296349  0.458968\n",
       "98 -0.162501  0.139314  0.250851\n",
       "99 -0.284664  0.189536  0.130668\n",
       "\n",
       "[100 rows x 3 columns]"
      ]
     },
     "execution_count": 27,
     "metadata": {},
     "output_type": "execute_result"
    }
   ],
   "source": [
    "singletons_ipw(df,n,100,a,b,eps,pi(y,0.5,0.5))"
   ]
  },
  {
   "cell_type": "code",
   "execution_count": 22,
   "metadata": {},
   "outputs": [
    {
     "name": "stdout",
     "output_type": "stream",
     "text": [
      "77\n"
     ]
    },
    {
     "data": {
      "text/html": [
       "<div>\n",
       "<style scoped>\n",
       "    .dataframe tbody tr th:only-of-type {\n",
       "        vertical-align: middle;\n",
       "    }\n",
       "\n",
       "    .dataframe tbody tr th {\n",
       "        vertical-align: top;\n",
       "    }\n",
       "\n",
       "    .dataframe thead th {\n",
       "        text-align: right;\n",
       "    }\n",
       "</style>\n",
       "<table border=\"1\" class=\"dataframe\">\n",
       "  <thead>\n",
       "    <tr style=\"text-align: right;\">\n",
       "      <th></th>\n",
       "      <th>X1</th>\n",
       "      <th>X2</th>\n",
       "      <th>X3</th>\n",
       "      <th>sample</th>\n",
       "    </tr>\n",
       "  </thead>\n",
       "  <tbody>\n",
       "    <tr>\n",
       "      <th>0</th>\n",
       "      <td>NaN</td>\n",
       "      <td>NaN</td>\n",
       "      <td>NaN</td>\n",
       "      <td>ipw</td>\n",
       "    </tr>\n",
       "    <tr>\n",
       "      <th>1</th>\n",
       "      <td>NaN</td>\n",
       "      <td>NaN</td>\n",
       "      <td>NaN</td>\n",
       "      <td>ipw</td>\n",
       "    </tr>\n",
       "    <tr>\n",
       "      <th>2</th>\n",
       "      <td>NaN</td>\n",
       "      <td>NaN</td>\n",
       "      <td>NaN</td>\n",
       "      <td>ipw</td>\n",
       "    </tr>\n",
       "    <tr>\n",
       "      <th>3</th>\n",
       "      <td>NaN</td>\n",
       "      <td>NaN</td>\n",
       "      <td>NaN</td>\n",
       "      <td>ipw</td>\n",
       "    </tr>\n",
       "    <tr>\n",
       "      <th>4</th>\n",
       "      <td>NaN</td>\n",
       "      <td>NaN</td>\n",
       "      <td>NaN</td>\n",
       "      <td>ipw</td>\n",
       "    </tr>\n",
       "    <tr>\n",
       "      <th>...</th>\n",
       "      <td>...</td>\n",
       "      <td>...</td>\n",
       "      <td>...</td>\n",
       "      <td>...</td>\n",
       "    </tr>\n",
       "    <tr>\n",
       "      <th>95</th>\n",
       "      <td>NaN</td>\n",
       "      <td>NaN</td>\n",
       "      <td>NaN</td>\n",
       "      <td>ipw</td>\n",
       "    </tr>\n",
       "    <tr>\n",
       "      <th>96</th>\n",
       "      <td>NaN</td>\n",
       "      <td>NaN</td>\n",
       "      <td>NaN</td>\n",
       "      <td>ipw</td>\n",
       "    </tr>\n",
       "    <tr>\n",
       "      <th>97</th>\n",
       "      <td>NaN</td>\n",
       "      <td>NaN</td>\n",
       "      <td>NaN</td>\n",
       "      <td>ipw</td>\n",
       "    </tr>\n",
       "    <tr>\n",
       "      <th>98</th>\n",
       "      <td>NaN</td>\n",
       "      <td>NaN</td>\n",
       "      <td>NaN</td>\n",
       "      <td>ipw</td>\n",
       "    </tr>\n",
       "    <tr>\n",
       "      <th>99</th>\n",
       "      <td>NaN</td>\n",
       "      <td>NaN</td>\n",
       "      <td>NaN</td>\n",
       "      <td>ipw</td>\n",
       "    </tr>\n",
       "  </tbody>\n",
       "</table>\n",
       "<p>100 rows × 4 columns</p>\n",
       "</div>"
      ],
      "text/plain": [
       "    X1  X2  X3 sample\n",
       "0  NaN NaN NaN    ipw\n",
       "1  NaN NaN NaN    ipw\n",
       "2  NaN NaN NaN    ipw\n",
       "3  NaN NaN NaN    ipw\n",
       "4  NaN NaN NaN    ipw\n",
       "..  ..  ..  ..    ...\n",
       "95 NaN NaN NaN    ipw\n",
       "96 NaN NaN NaN    ipw\n",
       "97 NaN NaN NaN    ipw\n",
       "98 NaN NaN NaN    ipw\n",
       "99 NaN NaN NaN    ipw\n",
       "\n",
       "[100 rows x 4 columns]"
      ]
     },
     "execution_count": 22,
     "metadata": {},
     "output_type": "execute_result"
    }
   ],
   "source": [
    "b0=0.5\n",
    "b1 =0.5\n",
    "\n",
    "singleton_ipw(df,'X1',n,pi(y,0.5,0.5),'ipw')"
   ]
  },
  {
   "cell_type": "code",
   "execution_count": 24,
   "metadata": {},
   "outputs": [
    {
     "data": {
      "text/plain": [
       "0.638387538251117"
      ]
     },
     "execution_count": 24,
     "metadata": {},
     "output_type": "execute_result"
    }
   ],
   "source": []
  },
  {
   "cell_type": "code",
   "execution_count": null,
   "metadata": {},
   "outputs": [],
   "source": []
  },
  {
   "cell_type": "code",
   "execution_count": 26,
   "metadata": {},
   "outputs": [
    {
     "name": "stdout",
     "output_type": "stream",
     "text": [
      "100\n",
      "71\n",
      "91\n",
      "77\n",
      "86\n",
      "93\n",
      "96\n",
      "87\n",
      "88\n",
      "X1 is missing\n"
     ]
    },
    {
     "name": "stderr",
     "output_type": "stream",
     "text": [
      "<ipython-input-26-021868a78ee7>:37: UserWarning: \n",
      "The palette list has fewer values (6) than needed (9) and will cycle, which may produce an uninterpretable plot.\n",
      "  ax = sns.boxplot(x='Variable',y='First Order Effect',data=dd,hue='sample',palette=sns.color_palette('flare_r'),showfliers = False) #\"Blues\" \"cubehelix\" flare_r'\n"
     ]
    },
    {
     "name": "stdout",
     "output_type": "stream",
     "text": [
      "100\n",
      "72\n",
      "91\n",
      "73\n",
      "77\n",
      "86\n",
      "93\n",
      "91\n",
      "86\n",
      "X2 is missing\n",
      "100\n"
     ]
    },
    {
     "name": "stderr",
     "output_type": "stream",
     "text": [
      "<ipython-input-26-021868a78ee7>:37: UserWarning: \n",
      "The palette list has fewer values (6) than needed (9) and will cycle, which may produce an uninterpretable plot.\n",
      "  ax = sns.boxplot(x='Variable',y='First Order Effect',data=dd,hue='sample',palette=sns.color_palette('flare_r'),showfliers = False) #\"Blues\" \"cubehelix\" flare_r'\n"
     ]
    },
    {
     "name": "stdout",
     "output_type": "stream",
     "text": [
      "73\n",
      "95\n",
      "84\n",
      "81\n",
      "87\n",
      "92\n",
      "91\n",
      "87\n",
      "X3 is missing\n"
     ]
    },
    {
     "name": "stderr",
     "output_type": "stream",
     "text": [
      "<ipython-input-26-021868a78ee7>:37: UserWarning: \n",
      "The palette list has fewer values (6) than needed (9) and will cycle, which may produce an uninterpretable plot.\n",
      "  ax = sns.boxplot(x='Variable',y='First Order Effect',data=dd,hue='sample',palette=sns.color_palette('flare_r'),showfliers = False) #\"Blues\" \"cubehelix\" flare_r'\n"
     ]
    },
    {
     "data": {
      "image/png": "[encoded data removed]",
      "text/plain": [
       "<Figure size 720x432 with 1 Axes>"
      ]
     },
     "metadata": {
      "needs_background": "light"
     },
     "output_type": "display_data"
    },
    {
     "data": {
      "image/png": "[encoded data removed]",
      "text/plain": [
       "<Figure size 720x432 with 1 Axes>"
      ]
     },
     "metadata": {
      "needs_background": "light"
     },
     "output_type": "display_data"
    },
    {
     "data": {
      "image/png": "[encoded data removed]",
      "text/plain": [
       "<Figure size 720x432 with 1 Axes>"
      ]
     },
     "metadata": {
      "needs_background": "light"
     },
     "output_type": "display_data"
    }
   ],
   "source": [
    "b0=1\n",
    "b1 = 1\n",
    "\n",
    "p1 = pi(y,b0,b1)\n",
    "\n",
    "\n",
    "for x in ['X1','X2','X3']:\n",
    "    single_sobol = singleton_ipw(df,x,n,1,'complete')\n",
    "    single_sobol_ipw = singleton_ipw(df,x,n,p,'ipw')\n",
    "\n",
    "    \n",
    "    y = dataset(n,df.copy()).ishigami(eps)(a,b)\n",
    "\n",
    "    single_sobol_ipw_y = singleton_ipw(df,x,n,p1,'mar_y')\n",
    "\n",
    "    single_sobol_ipw_xj = singleton_ipw(df,x,n,pi(df[df.drop([x],axis=1).columns[0]],b0,b1),'mar_xk')\n",
    "\n",
    "    single_sobol_ipw_xk = singleton_ipw(df,x,n,pi(df[df.drop([x],axis=1).columns[1]],b0,b1),'mar_xj')\n",
    "\n",
    "    single_sobol_ipw_xx = singleton_ipw(df,x,n,pi(df[df.drop([x],axis=1).columns].sum(axis=1),b0,b1),'mar_x')\n",
    "    \n",
    "    single_sobol_ipw_xxy = singleton_ipw(df,x,n,pi(0.5*y + 0.8 *df[df.drop([x],axis=1).columns].sum(axis=1),b0,b1),'mar_xxy')\n",
    "    \n",
    "    single_sobol_ipw_yxj = singleton_ipw(df,x,n,pi(0.5*y + 0.8 * df[df.drop([x],axis=1).columns[0]],b0,b1),'mar_xky')\n",
    "    \n",
    "    single_sobol_ipw_yxk = singleton_ipw(df,x,n,pi(0.5*y + 0.8 * df[df.drop([x],axis=1).columns[1]],b0,b1),'mar_xjy')\n",
    "    \n",
    "    print(x+ ' is missing')\n",
    "    cdf = pd.concat([single_sobol,single_sobol_ipw,single_sobol_ipw_y,single_sobol_ipw_xj,single_sobol_ipw_xk,single_sobol_ipw_xx,single_sobol_ipw_xxy,\n",
    "                    single_sobol_ipw_yxj,single_sobol_ipw_yxk],axis=0)  \n",
    "    \n",
    "    dd = pd.melt(cdf, id_vars= ['sample'],value_vars=['X1','X2','X3'],var_name='Variable')\n",
    "    dd = dd.rename(columns={'value':'First Order Effect'})\n",
    " \n",
    "    fig, ax = plt.subplots(1, 1,figsize=(10, 6))\n",
    "    \n",
    "    ax = sns.boxplot(x='Variable',y='First Order Effect',data=dd,hue='sample',palette=sns.color_palette('flare_r'),showfliers = False) #\"Blues\" \"cubehelix\" flare_r'\n",
    "    ax.legend_.remove()\n",
    "    #ax.set(ylim=(0, 0.7))\n",
    "    fig = ax.get_figure()\n",
    "    adjust_box_widths(fig, 0.9)\n",
    "    fig.savefig('simulation/MAR_'+str(x)+'IPW.pdf',transparent=True,bbox_inches='tight')\n"
   ]
  },
  {
   "cell_type": "code",
   "execution_count": null,
   "metadata": {},
   "outputs": [],
   "source": []
  },
  {
   "cell_type": "code",
   "execution_count": null,
   "metadata": {},
   "outputs": [],
   "source": []
  }
 ],
 "metadata": {
  "kernelspec": {
   "display_name": "Python 3",
   "language": "python",
   "name": "python3"
  },
  "language_info": {
   "codemirror_mode": {
    "name": "ipython",
    "version": 3
   },
   "file_extension": ".py",
   "mimetype": "text/x-python",
   "name": "python",
   "nbconvert_exporter": "python",
   "pygments_lexer": "ipython3",
   "version": "3.8.5"
  }
 },
 "nbformat": 4,
 "nbformat_minor": 4
}
