{
 "cells": [
  {
   "cell_type": "code",
   "execution_count": 1,
   "metadata": {},
   "outputs": [
    {
     "name": "stderr",
     "output_type": "stream",
     "text": [
      "/Users/lilimatic/opt/anaconda3/lib/python3.8/site-packages/pandas/core/computation/expressions.py:20: UserWarning: Pandas requires version '2.7.3' or newer of 'numexpr' (version '2.7.1' currently installed).\n",
      "  from pandas.core.computation.check import NUMEXPR_INSTALLED\n"
     ]
    }
   ],
   "source": [
    "import pandas as pd\n",
    "import numpy as np\n",
    "from function import *\n",
    "import matplotlib.pyplot as plt\n",
    "import seaborn as sns\n",
    "from matplotlib.patches import PathPatch"
   ]
  },
  {
   "cell_type": "code",
   "execution_count": 2,
   "metadata": {},
   "outputs": [],
   "source": [
    "df = pd.read_csv('data_sim.csv')\n",
    "df.drop('Unnamed: 0',axis=1,inplace=True)"
   ]
  },
  {
   "cell_type": "code",
   "execution_count": 3,
   "metadata": {},
   "outputs": [],
   "source": [
    "n = 10000\n",
    "\n",
    "eps = 0 # np.random.normal(0, 0.1, n)\n",
    "\n",
    "a = 2\n",
    "b = 2\n",
    "\n",
    "b0=0.5\n",
    "b1 = 0.5\n",
    "\n",
    "sim = 10000\n",
    "\n",
    "p = 0.7"
   ]
  },
  {
   "cell_type": "code",
   "execution_count": 4,
   "metadata": {},
   "outputs": [],
   "source": [
    "df = df[:n]"
   ]
  },
  {
   "cell_type": "code",
   "execution_count": 5,
   "metadata": {},
   "outputs": [],
   "source": [
    "#df   = pd.DataFrame(np.random.uniform(0,1,size=(n, 3)),columns=['X1','X2','X3'])\n",
    "\n",
    "#df.to_csv('data_sim.csv')  "
   ]
  },
  {
   "cell_type": "code",
   "execution_count": 6,
   "metadata": {},
   "outputs": [],
   "source": [
    "omega = pd.DataFrame(np.random.binomial(size=n, n=1, p= 0.7),columns=['X2'])"
   ]
  },
  {
   "cell_type": "code",
   "execution_count": 7,
   "metadata": {},
   "outputs": [],
   "source": [
    "def higher_sobol(df,Xi,n,p,sample):\n",
    "    omega = pd.DataFrame(np.random.binomial(size=n, n=1, p= p),columns=[Xi])\n",
    "    omega[df.drop([Xi],axis=1).columns]=  np.ones((n,2),dtype=int)\n",
    "    cc = df.where(omega==1,np.nan).dropna()\n",
    "    print(len(cc))\n",
    "    higher_sobol_cc = higher_sobols(cc,len(cc),sim,a,b,eps)\n",
    "    #fig, ax = plt.subplots()\n",
    "    #ax.boxplot(single_sobol_cc)\n",
    "    #ax.set_xticklabels(single_sobol_cc.columns)\n",
    "    higher_sobol_cc['sample'] = sample\n",
    "    return higher_sobol_cc"
   ]
  },
  {
   "cell_type": "code",
   "execution_count": 8,
   "metadata": {},
   "outputs": [],
   "source": [
    "def higher_sobols(df,n1,sim,a,b,eps):\n",
    "    singleton = []\n",
    "    for x in [['X3'],['X1'],['X2'],[]]:\n",
    "        singleton.append(sobol(df,n1,x,sim,a,b,eps))\n",
    "    return pd.DataFrame(dict(zip(['X1_X2','X2_X3','X1_X3'],singleton)))"
   ]
  },
  {
   "cell_type": "code",
   "execution_count": 9,
   "metadata": {},
   "outputs": [
    {
     "name": "stdout",
     "output_type": "stream",
     "text": [
      "10000\n"
     ]
    },
    {
     "ename": "NameError",
     "evalue": "name 'singleton' is not defined",
     "output_type": "error",
     "traceback": [
      "\u001b[0;31m---------------------------------------------------------------------------\u001b[0m",
      "\u001b[0;31mNameError\u001b[0m                                 Traceback (most recent call last)",
      "\u001b[0;32m<ipython-input-9-957b0076b348>\u001b[0m in \u001b[0;36m<module>\u001b[0;34m\u001b[0m\n\u001b[1;32m      6\u001b[0m \u001b[0;32mfor\u001b[0m \u001b[0mx\u001b[0m \u001b[0;32min\u001b[0m \u001b[0;34m[\u001b[0m\u001b[0;34m'X1'\u001b[0m\u001b[0;34m,\u001b[0m\u001b[0;34m'X2'\u001b[0m\u001b[0;34m,\u001b[0m\u001b[0;34m'X3'\u001b[0m\u001b[0;34m]\u001b[0m\u001b[0;34m:\u001b[0m\u001b[0;34m\u001b[0m\u001b[0;34m\u001b[0m\u001b[0m\n\u001b[1;32m      7\u001b[0m     \u001b[0msingle_sobol\u001b[0m \u001b[0;34m=\u001b[0m \u001b[0mhigher_sobol\u001b[0m\u001b[0;34m(\u001b[0m\u001b[0mdf\u001b[0m\u001b[0;34m,\u001b[0m\u001b[0mx\u001b[0m\u001b[0;34m,\u001b[0m\u001b[0mn\u001b[0m\u001b[0;34m,\u001b[0m\u001b[0;36m1\u001b[0m\u001b[0;34m,\u001b[0m\u001b[0;34m'complete'\u001b[0m\u001b[0;34m)\u001b[0m\u001b[0;34m\u001b[0m\u001b[0;34m\u001b[0m\u001b[0m\n\u001b[0;32m----> 8\u001b[0;31m     \u001b[0msingle_sobol_cc\u001b[0m \u001b[0;34m=\u001b[0m \u001b[0msingleton\u001b[0m\u001b[0;34m(\u001b[0m\u001b[0mdf\u001b[0m\u001b[0;34m,\u001b[0m\u001b[0mx\u001b[0m\u001b[0;34m,\u001b[0m\u001b[0mn\u001b[0m\u001b[0;34m,\u001b[0m\u001b[0mp\u001b[0m\u001b[0;34m,\u001b[0m\u001b[0;34m'cc'\u001b[0m\u001b[0;34m)\u001b[0m\u001b[0;34m\u001b[0m\u001b[0;34m\u001b[0m\u001b[0m\n\u001b[0m\u001b[1;32m      9\u001b[0m \u001b[0;34m\u001b[0m\u001b[0m\n\u001b[1;32m     10\u001b[0m \u001b[0;34m\u001b[0m\u001b[0m\n",
      "\u001b[0;31mNameError\u001b[0m: name 'singleton' is not defined"
     ]
    }
   ],
   "source": [
    "p = 0.7\n",
    "b0=0.5\n",
    "b1 = 0.5\n",
    "\n",
    "\n",
    "for x in ['X1','X2','X3']:\n",
    "    single_sobol = higher_sobol(df,x,n,1,'complete')\n",
    "    single_sobol_cc = singleton(df,x,n,p,'cc')\n",
    "\n",
    "    \n",
    "    y = dataset(n,df.copy()).ishigami(eps)(a,b)\n",
    "\n",
    "    single_sobol_cc_y = higher_sobol(df,x,n,pi(0.5*y,b0,b1),'mar_y')\n",
    "\n",
    "    single_sobol_cc_xj = higher_sobol(df,x,n,pi(df[df.drop([x],axis=1).columns[0]],b0,b1),'mar_xk')\n",
    "\n",
    "    single_sobol_cc_xk = higher_sobol(df,x,n,pi(df[df.drop([x],axis=1).columns[1]],b0,b1),'mar_xj')\n",
    "\n",
    "    single_sobol_cc_xx = higher_sobol(df,x,n,pi(0.7*df[df.drop([x],axis=1).columns].sum(axis=1),b0,b1),'mar_x')\n",
    "    \n",
    "    single_sobol_cc_xxy = higher_sobol(df,x,n,pi(0.4*y + 0.5 *df[df.drop([x],axis=1).columns].sum(axis=1),b0,b1),'mar_xxy')\n",
    "    \n",
    "    single_sobol_cc_yxj = higher_sobol(df,x,n,pi(0.4*y + 0.5 * df[df.drop([x],axis=1).columns[0]],b0,b1),'mar_xky')\n",
    "    \n",
    "    single_sobol_cc_yxk = higher_sobol(df,x,n,pi(0.5*y + 0.5 * df[df.drop([x],axis=1).columns[1]],b0,b1),'mar_xjy')\n",
    "    \n",
    "    print(x+ ' is missing')\n",
    "    cdf = pd.concat([single_sobol, #single_sobol_cc,\n",
    "                    single_sobol_cc_y,single_sobol_cc_xj,single_sobol_cc_xk,single_sobol_cc_xx,single_sobol_cc_xxy,\n",
    "                    single_sobol_cc_yxj,single_sobol_cc_yxk],axis=0)  \n",
    "    \n",
    "    dd = pd.melt(cdf, id_vars= ['sample'],value_vars=['X1_X2','X2_X3','X1_X3'],var_name='Variable')\n",
    "    dd = dd.rename(columns={'value':'First Order Effect'})\n",
    "    dd.to_csv(f'simulation/mar_run/mar_mix/{x}.csv')\n",
    " \n",
    "    fig, ax = plt.subplots(1, 1,figsize=(12, 8))\n",
    "    \n",
    "    ax = sns.boxplot(x='Variable',y='First Order Effect',data=dd,hue='sample',palette=sns.color_palette('flare_r'),showfliers = False) #\"Blues\" \"cubehelix\" flare_r'\n",
    "    ax.legend_.remove()\n",
    "    #ax.set(ylim=(0, 0.7))\n",
    "    fig = ax.get_figure()\n",
    "    adjust_box_widths(fig, 0.9)\n",
    "    fig.savefig('simulation/mar/mar_mix/MAR_'+str(x)+'10k.pdf',transparent=True,bbox_inches='tight')\n"
   ]
  },
  {
   "cell_type": "code",
   "execution_count": null,
   "metadata": {},
   "outputs": [],
   "source": [
    "dfs_mar = [pd.read_csv(f'simulation/mar_run/{x}.csv') for x in ['X1','X2','X3']]\n"
   ]
  },
  {
   "cell_type": "code",
   "execution_count": null,
   "metadata": {},
   "outputs": [],
   "source": [
    "dfs_mar[0]"
   ]
  },
  {
   "cell_type": "code",
   "execution_count": null,
   "metadata": {},
   "outputs": [],
   "source": [
    "for dd,x in zip(dfs_mar,['X1','X2','X3']):\n",
    "    fig, ax = plt.subplots(1, 1,figsize=(20, 10))\n",
    "    ax = sns.boxplot(x='Variable',y='First Order Effect',data=dd,hue='sample',palette=sns.color_palette('flare_r'),showfliers = False) #\"Blues\" \"cubehelix\" flare_r'\n",
    "    ax.legend_.remove()\n",
    "    ax.set(ylim=(0.1, 0.55))\n",
    "    fig = ax.get_figure()\n",
    "    adjust_box_widths(fig, 0.9)\n",
    "    plt.xticks(fontsize = 20) \n",
    "    plt.yticks(fontsize = 20) \n",
    "    ax.set_xlabel('Variable', fontsize = 20) \n",
    "    ax.set_ylabel('First Order Effect', fontsize = 20) \n",
    "    fig.savefig('simulation/mar/MAR_'+str(x)+'10k_p07.pdf',transparent=True,bbox_inches='tight')\n",
    "\n"
   ]
  },
  {
   "cell_type": "code",
   "execution_count": null,
   "metadata": {},
   "outputs": [],
   "source": []
  },
  {
   "cell_type": "code",
   "execution_count": null,
   "metadata": {},
   "outputs": [],
   "source": []
  }
 ],
 "metadata": {
  "kernelspec": {
   "display_name": "Python 3",
   "language": "python",
   "name": "python3"
  },
  "language_info": {
   "codemirror_mode": {
    "name": "ipython",
    "version": 3
   },
   "file_extension": ".py",
   "mimetype": "text/x-python",
   "name": "python",
   "nbconvert_exporter": "python",
   "pygments_lexer": "ipython3",
   "version": "3.8.5"
  }
 },
 "nbformat": 4,
 "nbformat_minor": 4
}
